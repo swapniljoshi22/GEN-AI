{
 "cells": [
  {
   "cell_type": "markdown",
   "id": "39f30af6",
   "metadata": {},
   "source": [
    "# Basic Practice"
   ]
  },
  {
   "cell_type": "code",
   "execution_count": 1,
   "id": "a40c42b3",
   "metadata": {},
   "outputs": [
    {
     "name": "stdout",
     "output_type": "stream",
     "text": [
      "Note: you may need to restart the kernel to use updated packages.\n"
     ]
    },
    {
     "name": "stderr",
     "output_type": "stream",
     "text": [
      "\n",
      "[notice] A new release of pip is available: 24.2 -> 25.1\n",
      "[notice] To update, run: python.exe -m pip install --upgrade pip\n"
     ]
    }
   ],
   "source": [
    "pip install -q langchain-core requests"
   ]
  },
  {
   "cell_type": "code",
   "execution_count": 2,
   "id": "7b5d763c",
   "metadata": {},
   "outputs": [],
   "source": [
    "from langchain_groq import ChatGroq\n",
    "from langchain_core.tools import tool\n",
    "from langchain_core.messages import HumanMessage, AIMessage\n",
    "import requests"
   ]
  },
  {
   "cell_type": "code",
   "execution_count": 3,
   "id": "17cf1145",
   "metadata": {},
   "outputs": [],
   "source": [
    "@tool\n",
    "def multiply(a: int, b: int) -> int:\n",
    "    \"\"\"Multiplies two numbers.\"\"\"\n",
    "    return a * b"
   ]
  },
  {
   "cell_type": "code",
   "execution_count": 4,
   "id": "c3d1d27b",
   "metadata": {},
   "outputs": [
    {
     "name": "stdout",
     "output_type": "stream",
     "text": [
      "200\n"
     ]
    }
   ],
   "source": [
    "print(multiply.invoke({'a':10, 'b':20}))"
   ]
  },
  {
   "cell_type": "code",
   "execution_count": 5,
   "id": "3b30d646",
   "metadata": {},
   "outputs": [
    {
     "data": {
      "text/plain": [
       "'multiply'"
      ]
     },
     "execution_count": 5,
     "metadata": {},
     "output_type": "execute_result"
    }
   ],
   "source": [
    "multiply.name"
   ]
  },
  {
   "cell_type": "code",
   "execution_count": 6,
   "id": "8b588db4",
   "metadata": {},
   "outputs": [
    {
     "data": {
      "text/plain": [
       "'Multiplies two numbers.'"
      ]
     },
     "execution_count": 6,
     "metadata": {},
     "output_type": "execute_result"
    }
   ],
   "source": [
    "multiply.description"
   ]
  },
  {
   "cell_type": "code",
   "execution_count": 7,
   "id": "25046271",
   "metadata": {},
   "outputs": [
    {
     "data": {
      "text/plain": [
       "{'a': {'title': 'A', 'type': 'integer'},\n",
       " 'b': {'title': 'B', 'type': 'integer'}}"
      ]
     },
     "execution_count": 7,
     "metadata": {},
     "output_type": "execute_result"
    }
   ],
   "source": [
    "multiply.args"
   ]
  },
  {
   "cell_type": "code",
   "execution_count": 45,
   "id": "4d460769",
   "metadata": {},
   "outputs": [],
   "source": [
    "llm = ChatGroq(model=\"llama3-70b-8192\")"
   ]
  },
  {
   "cell_type": "code",
   "execution_count": 10,
   "id": "5f3e63aa",
   "metadata": {},
   "outputs": [
    {
     "data": {
      "text/plain": [
       "AIMessage(content=\"Hi! It's nice to meet you. Is there something I can help you with or would you like to chat?\", additional_kwargs={}, response_metadata={'token_usage': {'completion_tokens': 25, 'prompt_tokens': 11, 'total_tokens': 36, 'completion_time': 0.071428571, 'prompt_time': 0.000128159, 'queue_time': 0.052390888, 'total_time': 0.07155673}, 'model_name': 'llama3-70b-8192', 'system_fingerprint': 'fp_dd4ae1c591', 'finish_reason': 'stop', 'logprobs': None}, id='run-ef35f416-3794-4283-8db6-fe64a2f0ebeb-0', usage_metadata={'input_tokens': 11, 'output_tokens': 25, 'total_tokens': 36})"
      ]
     },
     "execution_count": 10,
     "metadata": {},
     "output_type": "execute_result"
    }
   ],
   "source": [
    "llm.invoke(\"hi\")"
   ]
  },
  {
   "cell_type": "code",
   "execution_count": 11,
   "id": "74e3953c",
   "metadata": {},
   "outputs": [],
   "source": [
    "llm_with_tool = llm.bind_tools([multiply])"
   ]
  },
  {
   "cell_type": "code",
   "execution_count": 12,
   "id": "74cd613a",
   "metadata": {},
   "outputs": [
    {
     "data": {
      "text/plain": [
       "AIMessage(content='', additional_kwargs={'tool_calls': [{'id': 'call_x3tw', 'function': {'arguments': '{\"a\":1,\"b\":1}', 'name': 'multiply'}, 'type': 'function'}]}, response_metadata={'token_usage': {'completion_tokens': 56, 'prompt_tokens': 916, 'total_tokens': 972, 'completion_time': 0.16, 'prompt_time': 0.038490166, 'queue_time': 0.059089144, 'total_time': 0.198490166}, 'model_name': 'llama3-70b-8192', 'system_fingerprint': 'fp_dd4ae1c591', 'finish_reason': 'tool_calls', 'logprobs': None}, id='run-35826f9b-756b-4704-a4d3-cadbb1868780-0', tool_calls=[{'name': 'multiply', 'args': {'a': 1, 'b': 1}, 'id': 'call_x3tw', 'type': 'tool_call'}], usage_metadata={'input_tokens': 916, 'output_tokens': 56, 'total_tokens': 972})"
      ]
     },
     "execution_count": 12,
     "metadata": {},
     "output_type": "execute_result"
    }
   ],
   "source": [
    "llm_with_tool.invoke(\"hi\")"
   ]
  },
  {
   "cell_type": "code",
   "execution_count": 13,
   "id": "f7991d94",
   "metadata": {},
   "outputs": [],
   "source": [
    "query = HumanMessage('can you multiply 10 and 20?')"
   ]
  },
  {
   "cell_type": "code",
   "execution_count": 14,
   "id": "6254164a",
   "metadata": {},
   "outputs": [],
   "source": [
    "message = [query]"
   ]
  },
  {
   "cell_type": "code",
   "execution_count": 15,
   "id": "a0272498",
   "metadata": {},
   "outputs": [
    {
     "data": {
      "text/plain": [
       "[HumanMessage(content='can you multiply 10 and 20?', additional_kwargs={}, response_metadata={})]"
      ]
     },
     "execution_count": 15,
     "metadata": {},
     "output_type": "execute_result"
    }
   ],
   "source": [
    "message"
   ]
  },
  {
   "cell_type": "code",
   "execution_count": 16,
   "id": "d5dc0aab",
   "metadata": {},
   "outputs": [],
   "source": [
    "result= llm_with_tool.invoke(message)"
   ]
  },
  {
   "cell_type": "code",
   "execution_count": 17,
   "id": "ea620b5a",
   "metadata": {},
   "outputs": [],
   "source": [
    "message.append(result)"
   ]
  },
  {
   "cell_type": "code",
   "execution_count": 18,
   "id": "f294bdbb",
   "metadata": {},
   "outputs": [
    {
     "data": {
      "text/plain": [
       "[HumanMessage(content='can you multiply 10 and 20?', additional_kwargs={}, response_metadata={}),\n",
       " AIMessage(content='', additional_kwargs={'tool_calls': [{'id': 'call_2ckj', 'function': {'arguments': '{\"a\":10,\"b\":20}', 'name': 'multiply'}, 'type': 'function'}]}, response_metadata={'token_usage': {'completion_tokens': 48, 'prompt_tokens': 924, 'total_tokens': 972, 'completion_time': 0.137142857, 'prompt_time': 0.0300102, 'queue_time': 0.055213609999999996, 'total_time': 0.167153057}, 'model_name': 'llama3-70b-8192', 'system_fingerprint': 'fp_dd4ae1c591', 'finish_reason': 'tool_calls', 'logprobs': None}, id='run-d61a2984-7267-457d-8d00-4c34434987db-0', tool_calls=[{'name': 'multiply', 'args': {'a': 10, 'b': 20}, 'id': 'call_2ckj', 'type': 'tool_call'}], usage_metadata={'input_tokens': 924, 'output_tokens': 48, 'total_tokens': 972})]"
      ]
     },
     "execution_count": 18,
     "metadata": {},
     "output_type": "execute_result"
    }
   ],
   "source": [
    "message"
   ]
  },
  {
   "cell_type": "code",
   "execution_count": 19,
   "id": "9cf95a0d",
   "metadata": {},
   "outputs": [],
   "source": [
    "tool_result = multiply.invoke(result.tool_calls[0])"
   ]
  },
  {
   "cell_type": "code",
   "execution_count": 20,
   "id": "800b7404",
   "metadata": {},
   "outputs": [
    {
     "data": {
      "text/plain": [
       "ToolMessage(content='200', name='multiply', tool_call_id='call_2ckj')"
      ]
     },
     "execution_count": 20,
     "metadata": {},
     "output_type": "execute_result"
    }
   ],
   "source": [
    "tool_result"
   ]
  },
  {
   "cell_type": "code",
   "execution_count": 21,
   "id": "5336ac55",
   "metadata": {},
   "outputs": [],
   "source": [
    "message.append(tool_result)"
   ]
  },
  {
   "cell_type": "code",
   "execution_count": 22,
   "id": "77f2395d",
   "metadata": {},
   "outputs": [
    {
     "data": {
      "text/plain": [
       "'The answer is 200.'"
      ]
     },
     "execution_count": 22,
     "metadata": {},
     "output_type": "execute_result"
    }
   ],
   "source": [
    "llm_with_tool.invoke(message).content"
   ]
  },
  {
   "cell_type": "markdown",
   "id": "40d8199a",
   "metadata": {},
   "source": [
    "# Currency Conversion Tool"
   ]
  },
  {
   "cell_type": "code",
   "execution_count": null,
   "id": "9f0a777f",
   "metadata": {},
   "outputs": [],
   "source": [
    "from langchain_core.tools import InjectedToolArg\n",
    "from typing import Annotated\n",
    "\n",
    "@tool\n",
    "def get_conversion_factor(base_currency: str, target_currency: str) -> float:\n",
    "    \"\"\"Get conversion factor from base currency to target currency.\"\"\"\n",
    "    url = f\"https://v6.exchangerate-api.com/v6/7{api_key}/pair/{base_currency}/{target_currency}\"\n",
    "    response = requests.get(url)\n",
    "    return response.json()\n",
    "\n",
    "@tool\n",
    "def convert(base_currency_value: float, conversion_rate: Annotated[float, InjectedToolArg]) -> float:\n",
    "    \"\"\"Convert base currency value to target currency value.\"\"\"\n",
    "    return base_currency_value * conversion_rate"
   ]
  },
  {
   "cell_type": "code",
   "execution_count": 47,
   "id": "2fcb3f7b",
   "metadata": {},
   "outputs": [
    {
     "data": {
      "text/plain": [
       "{'base_currency_value': {'title': 'Base Currency Value', 'type': 'number'},\n",
       " 'conversion_rate': {'title': 'Conversion Rate', 'type': 'number'}}"
      ]
     },
     "execution_count": 47,
     "metadata": {},
     "output_type": "execute_result"
    }
   ],
   "source": [
    "convert.args"
   ]
  },
  {
   "cell_type": "code",
   "execution_count": 48,
   "id": "c5383c71",
   "metadata": {},
   "outputs": [
    {
     "data": {
      "text/plain": [
       "{'result': 'success',\n",
       " 'documentation': 'https://www.exchangerate-api.com/docs',\n",
       " 'terms_of_use': 'https://www.exchangerate-api.com/terms',\n",
       " 'time_last_update_unix': 1745798401,\n",
       " 'time_last_update_utc': 'Mon, 28 Apr 2025 00:00:01 +0000',\n",
       " 'time_next_update_unix': 1745884801,\n",
       " 'time_next_update_utc': 'Tue, 29 Apr 2025 00:00:01 +0000',\n",
       " 'base_code': 'USD',\n",
       " 'target_code': 'INR',\n",
       " 'conversion_rate': 85.4741}"
      ]
     },
     "execution_count": 48,
     "metadata": {},
     "output_type": "execute_result"
    }
   ],
   "source": [
    "get_conversion_factor.invoke({'base_currency': 'USD', 'target_currency': 'INR'})"
   ]
  },
  {
   "cell_type": "code",
   "execution_count": 49,
   "id": "2ef5724e",
   "metadata": {},
   "outputs": [
    {
     "data": {
      "text/plain": [
       "8547.41"
      ]
     },
     "execution_count": 49,
     "metadata": {},
     "output_type": "execute_result"
    }
   ],
   "source": [
    "convert.invoke({'base_currency_value': 100, 'conversion_rate': 85.4741})"
   ]
  },
  {
   "cell_type": "code",
   "execution_count": 50,
   "id": "1ebdcf09",
   "metadata": {},
   "outputs": [],
   "source": [
    "llm_with_tools = llm.bind_tools([get_conversion_factor, convert])"
   ]
  },
  {
   "cell_type": "code",
   "execution_count": 51,
   "id": "4f1f01ca",
   "metadata": {},
   "outputs": [],
   "source": [
    "messages = [HumanMessage('What is the conversion factor between INR and USD, and based on that can you convert 10 inr to usd')]"
   ]
  },
  {
   "cell_type": "code",
   "execution_count": 52,
   "id": "747ec797",
   "metadata": {},
   "outputs": [
    {
     "data": {
      "text/plain": [
       "[HumanMessage(content='What is the conversion factor between INR and USD, and based on that can you convert 10 inr to usd', additional_kwargs={}, response_metadata={})]"
      ]
     },
     "execution_count": 52,
     "metadata": {},
     "output_type": "execute_result"
    }
   ],
   "source": [
    "messages"
   ]
  },
  {
   "cell_type": "code",
   "execution_count": 53,
   "id": "f836bd7c",
   "metadata": {},
   "outputs": [],
   "source": [
    "ai_message = llm_with_tools.invoke(messages)"
   ]
  },
  {
   "cell_type": "code",
   "execution_count": 54,
   "id": "cc39ad6d",
   "metadata": {},
   "outputs": [],
   "source": [
    "messages.append(ai_message)"
   ]
  },
  {
   "cell_type": "code",
   "execution_count": 55,
   "id": "ced95dfe",
   "metadata": {},
   "outputs": [
    {
     "data": {
      "text/plain": [
       "[{'name': 'get_conversion_factor',\n",
       "  'args': {'base_currency': 'INR', 'target_currency': 'USD'},\n",
       "  'id': 'call_yre0',\n",
       "  'type': 'tool_call'}]"
      ]
     },
     "execution_count": 55,
     "metadata": {},
     "output_type": "execute_result"
    }
   ],
   "source": [
    "ai_message.tool_calls"
   ]
  },
  {
   "cell_type": "code",
   "execution_count": 56,
   "id": "1b0c71a7",
   "metadata": {},
   "outputs": [],
   "source": [
    "import json\n",
    "\n",
    "for tool_call in ai_message.tool_calls:\n",
    "  # execute the 1st tool and get the value of conversion rate\n",
    "  if tool_call['name'] == 'get_conversion_factor':\n",
    "    tool_message1 = get_conversion_factor.invoke(tool_call)\n",
    "    # fetch this conversion rate\n",
    "    conversion_rate = json.loads(tool_message1.content)['conversion_rate']\n",
    "    # append this tool message to messages list\n",
    "    messages.append(tool_message1)\n",
    "  # execute the 2nd tool using the conversion rate from tool 1\n",
    "  if tool_call['name'] == 'convert':\n",
    "    # fetch the current arg\n",
    "    tool_call['args']['conversion_rate'] = conversion_rate\n",
    "    tool_message2 = convert.invoke(tool_call)\n",
    "    messages.append(tool_message2)"
   ]
  },
  {
   "cell_type": "code",
   "execution_count": 57,
   "id": "6ae210ac",
   "metadata": {},
   "outputs": [
    {
     "data": {
      "text/plain": [
       "[HumanMessage(content='What is the conversion factor between INR and USD, and based on that can you convert 10 inr to usd', additional_kwargs={}, response_metadata={}),\n",
       " AIMessage(content='', additional_kwargs={'tool_calls': [{'id': 'call_yre0', 'function': {'arguments': '{\"base_currency\":\"INR\",\"target_currency\":\"USD\"}', 'name': 'get_conversion_factor'}, 'type': 'function'}]}, response_metadata={'token_usage': {'completion_tokens': 53, 'prompt_tokens': 1053, 'total_tokens': 1106, 'completion_time': 0.152903222, 'prompt_time': 0.033527228, 'queue_time': 0.056341146, 'total_time': 0.18643045}, 'model_name': 'llama3-70b-8192', 'system_fingerprint': 'fp_dd4ae1c591', 'finish_reason': 'tool_calls', 'logprobs': None}, id='run-8bcb48e1-ec20-452a-a1cc-173993e28574-0', tool_calls=[{'name': 'get_conversion_factor', 'args': {'base_currency': 'INR', 'target_currency': 'USD'}, 'id': 'call_yre0', 'type': 'tool_call'}], usage_metadata={'input_tokens': 1053, 'output_tokens': 53, 'total_tokens': 1106}),\n",
       " ToolMessage(content='{\"result\": \"success\", \"documentation\": \"https://www.exchangerate-api.com/docs\", \"terms_of_use\": \"https://www.exchangerate-api.com/terms\", \"time_last_update_unix\": 1745798401, \"time_last_update_utc\": \"Mon, 28 Apr 2025 00:00:01 +0000\", \"time_next_update_unix\": 1745884801, \"time_next_update_utc\": \"Tue, 29 Apr 2025 00:00:01 +0000\", \"base_code\": \"INR\", \"target_code\": \"USD\", \"conversion_rate\": 0.0117}', name='get_conversion_factor', tool_call_id='call_yre0')]"
      ]
     },
     "execution_count": 57,
     "metadata": {},
     "output_type": "execute_result"
    }
   ],
   "source": [
    "messages"
   ]
  },
  {
   "cell_type": "code",
   "execution_count": 58,
   "id": "2d1517be",
   "metadata": {},
   "outputs": [
    {
     "data": {
      "text/plain": [
       "''"
      ]
     },
     "execution_count": 58,
     "metadata": {},
     "output_type": "execute_result"
    }
   ],
   "source": [
    "llm_with_tools.invoke(messages).content"
   ]
  },
  {
   "cell_type": "code",
   "execution_count": 59,
   "id": "2b6c8bf8",
   "metadata": {},
   "outputs": [
    {
     "name": "stderr",
     "output_type": "stream",
     "text": [
      "C:\\Users\\jadit\\AppData\\Local\\Temp\\ipykernel_20544\\1361761902.py:4: LangChainDeprecationWarning: LangChain agents will continue to be supported, but it is recommended for new use cases to be built with LangGraph. LangGraph offers a more flexible and full-featured framework for building agents, including support for tool-calling, persistence of state, and human-in-the-loop workflows. For details, refer to the `LangGraph documentation <https://langchain-ai.github.io/langgraph/>`_ as well as guides for `Migrating from AgentExecutor <https://python.langchain.com/docs/how_to/migrate_agent/>`_ and LangGraph's `Pre-built ReAct agent <https://langchain-ai.github.io/langgraph/how-tos/create-react-agent/>`_.\n",
      "  agent_executor = initialize_agent(\n"
     ]
    }
   ],
   "source": [
    "from langchain.agents import initialize_agent, AgentType\n",
    "\n",
    "\n",
    "agent_executor = initialize_agent(\n",
    "    tools=[get_conversion_factor, convert],\n",
    "    llm=llm,\n",
    "    agent=AgentType.STRUCTURED_CHAT_ZERO_SHOT_REACT_DESCRIPTION,\n",
    "    verbose=True \n",
    ")"
   ]
  },
  {
   "cell_type": "code",
   "execution_count": 60,
   "id": "28fd80e5",
   "metadata": {},
   "outputs": [
    {
     "name": "stdout",
     "output_type": "stream",
     "text": [
      "\n",
      "\n",
      "\u001b[1m> Entering new AgentExecutor chain...\u001b[0m\n",
      "\u001b[32;1m\u001b[1;3mI'm doing well, thanks! I'm here to help you with any questions or tasks you might have.\n",
      "\n",
      "Action:\n",
      "```\n",
      "{\n",
      "  \"action\": \"No action needed\",\n",
      "  \"action_input\": \"Just a friendly greeting\"\n",
      "}\n",
      "```\n",
      "\u001b[0m\n",
      "Observation: No action needed is not a valid tool, try one of [get_conversion_factor, convert].\n",
      "Thought:\u001b[32;1m\u001b[1;3mI apologize for the mistake!\n",
      "\n",
      "Action:\n",
      "```\n",
      "{\n",
      "  \"action\": \"Final Answer\",\n",
      "  \"action_input\": \"I'm doing well, thanks! I'm here to help you with any questions or tasks you might have.\"\n",
      "}\n",
      "```\n",
      "\n",
      "\u001b[0m\n",
      "\n",
      "\u001b[1m> Finished chain.\u001b[0m\n"
     ]
    }
   ],
   "source": [
    "user_query = \"Hi how are you?\"\n",
    "\n",
    "response = agent_executor.invoke({\"input\": user_query})"
   ]
  },
  {
   "cell_type": "code",
   "execution_count": null,
   "id": "9aa781d8",
   "metadata": {},
   "outputs": [],
   "source": []
  }
 ],
 "metadata": {
  "kernelspec": {
   "display_name": "langchain_env",
   "language": "python",
   "name": "python3"
  },
  "language_info": {
   "codemirror_mode": {
    "name": "ipython",
    "version": 3
   },
   "file_extension": ".py",
   "mimetype": "text/x-python",
   "name": "python",
   "nbconvert_exporter": "python",
   "pygments_lexer": "ipython3",
   "version": "3.12.10"
  }
 },
 "nbformat": 4,
 "nbformat_minor": 5
}
